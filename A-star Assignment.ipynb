{
 "cells": [
  {
   "cell_type": "code",
   "execution_count": 21,
   "metadata": {},
   "outputs": [],
   "source": [
    "import math\n",
    "from queue import PriorityQueue"
   ]
  },
  {
   "cell_type": "code",
   "execution_count": 22,
   "metadata": {},
   "outputs": [],
   "source": [
    "def heuristic(node, goal):\n",
    "    x1, y1 = coords[node]\n",
    "    x2, y2 = coords[goal]\n",
    "    return math.sqrt((x1 - x2) ** 2 + (y1 - y2) ** 2)\n"
   ]
  },
  {
   "cell_type": "code",
   "execution_count": 23,
   "metadata": {},
   "outputs": [],
   "source": [
    "class State:\n",
    "    def __init__(self, node, parent, g, f):\n",
    "        self.node = node\n",
    "        self.parent = parent\n",
    "        self.g = g  # Cost to reach this node\n",
    "        self.f = f  # Estimated total cost (g + heuristic)\n",
    "    \n",
    "    def __lt__(self, other):\n",
    "        return self.f < other.f\n",
    "    \n",
    "    def __eq__(self, other):\n",
    "        return self.node == other.node\n",
    "    \n",
    "def __str__(state):\n",
    "    path = []\n",
    "    while state:\n",
    "        path.append(state.node)\n",
    "        state = state.parent\n",
    "    return path[::-1]\n"
   ]
  },
  {
   "cell_type": "code",
   "execution_count": 24,
   "metadata": {},
   "outputs": [],
   "source": [
    "def a_star(start, goal):\n",
    "    open_set = PriorityQueue()\n",
    "    open_set.put(State(start, None, 0, heuristic(start, goal)))\n",
    "    closed_set = set()\n",
    "    \n",
    "    while not open_set.empty():\n",
    "        current = open_set.get()\n",
    "        \n",
    "        if current.node == goal:\n",
    "            path = __str__(current)\n",
    "            print(\"Solution path:\", \" - \".join(path))\n",
    "            print(\"Solution cost:\", current.g)\n",
    "            return\n",
    "        \n",
    "        closed_set.add(current.node)\n",
    "        \n",
    "        for neighbor, cost in adjlist[current.node]:\n",
    "            if neighbor in closed_set:\n",
    "                continue\n",
    "            g = current.g + cost\n",
    "            f = g + heuristic(neighbor, goal)\n",
    "            open_set.put(State(neighbor, current, g, f))\n",
    "    \n",
    "    print(\"No solution found\")"
   ]
  },
  {
   "cell_type": "code",
   "execution_count": 25,
   "metadata": {},
   "outputs": [
    {
     "name": "stdout",
     "output_type": "stream",
     "text": [
      "Solution path: S - C - G\n",
      "Solution cost: 6\n"
     ]
    }
   ],
   "source": [
    "# Read input from file\n",
    "coords = {}\n",
    "adjlist = {}\n",
    "with open('input1.txt', 'r') as f:\n",
    "    V = int(f.readline())\n",
    "    for _ in range(V):\n",
    "        nid, x, y = f.readline().split()\n",
    "        coords[nid] = (int(x), int(y))\n",
    "        adjlist[nid] = []\n",
    "    \n",
    "    E = int(f.readline())\n",
    "    for _ in range(E):\n",
    "        n1, n2, cost = f.readline().split()\n",
    "        adjlist[n1].append((n2, int(cost)))\n",
    "    \n",
    "    start_node = f.readline().strip()\n",
    "    goal_node = f.readline().strip()\n",
    "\n",
    "a_star(start_node, goal_node)"
   ]
  },
  {
   "cell_type": "code",
   "execution_count": 26,
   "metadata": {},
   "outputs": [
    {
     "name": "stdout",
     "output_type": "stream",
     "text": [
      "graph:\n",
      "S (6, 0) ---> [('A', 1), ('C', 2), ('D', 4)]\n",
      "\t A 1\n",
      "\t C 2\n",
      "\t D 4\n",
      "A (6, 0) ---> [('B', 2)]\n",
      "\t B 2\n",
      "B (1, 0) ---> [('A', 2), ('G', 1)]\n",
      "\t A 2\n",
      "\t G 1\n",
      "C (2, 0) ---> [('S', 2), ('G', 4)]\n",
      "\t S 2\n",
      "\t G 4\n",
      "D (1, 0) ---> [('G', 4)]\n",
      "\t G 4\n",
      "G (0, 0) ---> []\n",
      "\n",
      "\n",
      "\n",
      "start S goal G\n"
     ]
    }
   ],
   "source": [
    "# graph\n",
    "print('graph:')\n",
    "\n",
    "for nid in adjlist:\n",
    "    print(nid, coords[nid], '--->',  adjlist[nid])\n",
    "    for tup in adjlist[nid]:\n",
    "        print('\\t', tup[0], tup[1])\n",
    "print(\"\\n\\n\")\n",
    "print('start', start_node, 'goal', goal_node)"
   ]
  },
  {
   "cell_type": "code",
   "execution_count": 27,
   "metadata": {},
   "outputs": [
    {
     "data": {
      "text/plain": [
       "(1, 0)"
      ]
     },
     "execution_count": 27,
     "metadata": {},
     "output_type": "execute_result"
    }
   ],
   "source": [
    "coords['D']"
   ]
  },
  {
   "cell_type": "code",
   "execution_count": 28,
   "metadata": {},
   "outputs": [
    {
     "data": {
      "text/plain": [
       "[('S', 2), ('G', 4)]"
      ]
     },
     "execution_count": 28,
     "metadata": {},
     "output_type": "execute_result"
    }
   ],
   "source": [
    "adjlist['C']"
   ]
  },
  {
   "cell_type": "code",
   "execution_count": 29,
   "metadata": {},
   "outputs": [
    {
     "name": "stdout",
     "output_type": "stream",
     "text": [
      "1 1\n",
      "2 2\n",
      "3 3\n",
      "4 4\n",
      "4 5\n",
      "4 6\n"
     ]
    }
   ],
   "source": [
    "from queue import PriorityQueue\n",
    "\n",
    "q = PriorityQueue()\n",
    "\n",
    "# q.put( (f, state) )\n",
    "q.put( (4, 5, 'Read') )\n",
    "q.put( (2, 2, 'Play') )\n",
    "q.put( (4, 4, 'Write') )\n",
    "q.put( (4, 6, 'Listen') )\n",
    "q.put( (1, 1, 'Code') )\n",
    "q.put( (3, 3, 'Study') )\n",
    "\n",
    "while not q.empty():\n",
    "    tup = q.get()\n",
    "    print(tup[0], tup[1])"
   ]
  },
  {
   "cell_type": "code",
   "execution_count": 30,
   "metadata": {},
   "outputs": [
    {
     "name": "stdout",
     "output_type": "stream",
     "text": [
      "1 3\n",
      "1 2\n",
      "1 2\n",
      "3 2\n"
     ]
    }
   ],
   "source": [
    "from queue import PriorityQueue\n",
    "\n",
    "\n",
    "class C:\n",
    "    def __init__(self, a, b):\n",
    "        self.a = a\n",
    "        self.b = b\n",
    "    \n",
    "    def __lt__(self, other):\n",
    "        return self.b > other.b\n",
    "    \n",
    "    def __eq__(self, other):\n",
    "        return self.a==other.a and self.b==other.b\n",
    "\n",
    "\n",
    "c1 = C(1, 2)\n",
    "c2 = C(1, 2)\n",
    "c3 = C(1, 3)\n",
    "c4 = C(3, 2)\n",
    "q = PriorityQueue()\n",
    "# q.put( state )\n",
    "q.put(c1)\n",
    "q.put(c2)\n",
    "q.put(c3)\n",
    "q.put(c4)\n",
    "while not q.empty():\n",
    "    c = q.get()\n",
    "    print(c.a, c.b)"
   ]
  }
 ],
 "metadata": {
  "kernelspec": {
   "display_name": "Python 3",
   "language": "python",
   "name": "python3"
  },
  "language_info": {
   "codemirror_mode": {
    "name": "ipython",
    "version": 3
   },
   "file_extension": ".py",
   "mimetype": "text/x-python",
   "name": "python",
   "nbconvert_exporter": "python",
   "pygments_lexer": "ipython3",
   "version": "3.11.9"
  }
 },
 "nbformat": 4,
 "nbformat_minor": 2
}
