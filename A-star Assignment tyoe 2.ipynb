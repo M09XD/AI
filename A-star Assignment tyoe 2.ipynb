{
 "cells": [
  {
   "cell_type": "code",
   "execution_count": 6,
   "metadata": {},
   "outputs": [],
   "source": [
    "import math\n",
    "from queue import PriorityQueue\n",
    "\n"
   ]
  },
  {
   "cell_type": "code",
   "execution_count": 7,
   "metadata": {},
   "outputs": [],
   "source": [
    "\n",
    "coords = {} # Store coordinates of each node\n",
    "adjlist = {} # Store adjacency list (edges with costs)\n",
    "\n",
    "# Read input from \"input.txt\"\n",
    "with open(\"input1.txt\",'r') as f:\n",
    "    V = int(f.readline().strip())  # Number of vertices\n",
    "    for _ in range(V):\n",
    "        node, x, y = f.readline().split()\n",
    "        coords[node] = (int(x), int(y))\n",
    "        adjlist[node] = []\n",
    "\n",
    "    E = int(f.readline().strip())  # Number of edges\n",
    "    for _ in range(E):\n",
    "        n1, n2, cost = f.readline().split()\n",
    "        adjlist[n1].append((n2, int(cost)))\n",
    "\n",
    "    start_node = f.readline().strip()  # Start node\n",
    "    goal_node = f.readline().strip()  # Goal node\n",
    "\n"
   ]
  },
  {
   "cell_type": "code",
   "execution_count": 8,
   "metadata": {},
   "outputs": [],
   "source": [
    "\n",
    "# Heuristic function (Euclidean distance)\n",
    "def heuristic(n1, n2):\n",
    "    x1, y1 = coords[n1]\n",
    "    x2, y2 = coords[n2]\n",
    "    return math.sqrt((x1 - x2) ** 2 + (y1 - y2) ** 2)\n",
    "\n",
    "\n"
   ]
  },
  {
   "cell_type": "code",
   "execution_count": 9,
   "metadata": {},
   "outputs": [],
   "source": [
    "\n",
    "# State class for A* Search\n",
    "class State:\n",
    "    def __init__(self, node, g, h, parent=None):\n",
    "        self.node = node\n",
    "        self.g = g  # Cost from start to this node\n",
    "        self.h = h  # Heuristic (estimated cost to goal)\n",
    "        self.f = g + h  # Total estimated cost\n",
    "        self.parent = parent  # Track parent node for path reconstruction\n",
    "\n",
    "    def __lt__(self, other):\n",
    "        return self.f < other.f  # Priority queue sorts by f-value\n",
    "\n"
   ]
  },
  {
   "cell_type": "code",
   "execution_count": 10,
   "metadata": {},
   "outputs": [
    {
     "name": "stdout",
     "output_type": "stream",
     "text": [
      "Solution path: S -> C -> G\n",
      "Solution cost: 6\n"
     ]
    }
   ],
   "source": [
    "\n",
    "# A* Search Algorithm\n",
    "def a_star(start, goal):\n",
    "    open_set = PriorityQueue()\n",
    "    open_set.put(State(start, 0, heuristic(start, goal)))  # Start state\n",
    "\n",
    "    closed_set = {}  # Visited nodes with best known cost\n",
    "\n",
    "    while not open_set.empty():\n",
    "        curr = open_set.get()  # Get node with lowest f-value\n",
    "\n",
    "        if curr.node == goal:\n",
    "            # Goal reached, reconstruct path\n",
    "            path = []\n",
    "            cost = curr.g\n",
    "            while curr:\n",
    "                path.append(curr.node)\n",
    "                curr = curr.parent\n",
    "            return path[::-1], cost  # Reverse to get correct order\n",
    "\n",
    "        if curr.node in closed_set and closed_set[curr.node] <= curr.g:\n",
    "            continue  # Skip if we already have a better path\n",
    "\n",
    "        closed_set[curr.node] = curr.g\n",
    "\n",
    "        # Expand neighbors\n",
    "        for neighbor, cost in adjlist[curr.node]:\n",
    "            g_new = curr.g + cost\n",
    "            h_new = heuristic(neighbor, goal)\n",
    "            open_set.put(State(neighbor, g_new, h_new, curr))\n",
    "\n",
    "    return None, float(\"inf\")  # No path found\n",
    "\n",
    "\n",
    "# Run A* and print result\n",
    "solution_path, solution_cost = a_star(start_node, goal_node)\n",
    "\n",
    "if solution_path:\n",
    "    print(\"Solution path:\", \" -> \".join(solution_path))\n",
    "    print(\"Solution cost:\", solution_cost)\n",
    "else:\n",
    "    print(\"No path found\")"
   ]
  }
 ],
 "metadata": {
  "kernelspec": {
   "display_name": "Python 3",
   "language": "python",
   "name": "python3"
  },
  "language_info": {
   "codemirror_mode": {
    "name": "ipython",
    "version": 3
   },
   "file_extension": ".py",
   "mimetype": "text/x-python",
   "name": "python",
   "nbconvert_exporter": "python",
   "pygments_lexer": "ipython3",
   "version": "3.11.9"
  }
 },
 "nbformat": 4,
 "nbformat_minor": 2
}
